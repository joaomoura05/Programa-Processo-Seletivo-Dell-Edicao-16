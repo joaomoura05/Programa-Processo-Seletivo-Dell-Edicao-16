{
 "cells": [
  {
   "cell_type": "markdown",
   "metadata": {},
   "source": [
    "# Programa IT Academy – Processo Seletivo – Edição #16"
   ]
  },
  {
   "cell_type": "markdown",
   "metadata": {},
   "source": [
    "#### Programa feito para a etapa 2 do Programa IT Academy - Processo Seletivo, por João Pedro de Moura Medeiros"
   ]
  },
  {
   "cell_type": "markdown",
   "metadata": {},
   "source": [
    "# Importação das bibliotecas"
   ]
  },
  {
   "cell_type": "code",
   "execution_count": 121,
   "metadata": {},
   "outputs": [],
   "source": [
    "'''AQUI SERA FEITA A IMPORTAÇÃO DAS BIBLIOTECAS'''\n",
    "\n",
    "# Importação da biblioteca 'pandas' para ser feita a leitura, análise e manipulação de dados do arquivo .csv\n",
    "import pandas as pd"
   ]
  },
  {
   "cell_type": "markdown",
   "metadata": {},
   "source": [
    "# Leitura do arquivo .csv"
   ]
  },
  {
   "cell_type": "code",
   "execution_count": 122,
   "metadata": {},
   "outputs": [],
   "source": [
    "'''AQUI SERA FEITA A LEITURA DO ARQUIVO .CSV'''\n",
    "\n",
    "# A variável \"csv\" receberá a leitura de um arquivo .csv feito pelo método \"read_csv()\" do pandas, com um separador de dados \"sep\"\n",
    "# Encoding foi implementado pois o csv não reconhecia palavras acentuadas e o caractere \"ç\"\n",
    "csv = pd.read_csv(\"./TA_PRECO_MEDICAMENTO.csv\", sep=\";\", encoding = \"ISO-8859-1\") \n",
    "\n",
    "# TESTE\n",
    "# display(csv) # Display printará todos os registros do arquivo .csv"
   ]
  },
  {
   "cell_type": "markdown",
   "metadata": {},
   "source": [
    "# Menu"
   ]
  },
  {
   "cell_type": "code",
   "execution_count": 123,
   "metadata": {},
   "outputs": [],
   "source": [
    "'''FUNÇÃO CRIADA PARA A CRIAÇÃO DO MENU E SER INSERIDA NO PROGRAMA'''\n",
    "\n",
    "def menu():\n",
    "    print(\"______________________________________________________________________________________________________\")\n",
    "    print(\"|                                                MENU                                                |\")\n",
    "    print(\"|                                                                                                    |\")\n",
    "    print(\"|                   DIGITE OS NÚMERO DAS FUNCIONALIDADES ABAIXO PARA ELAS EXECUTAREM                 |\")\n",
    "    print(\"|                                                                                                    |\")\n",
    "    print(\"| Funcionalidade 1 [Consultar medicamentos pelo nome]                                                |\")\n",
    "    print(\"| Funcionalidade 2 [Buscar pelo código de barras]                                                    |\")\n",
    "    print(\"| Funcionalidade 3 [Comparativo da LISTA DE CONCESSÃO DE CRÉDITO TRIBUTÁRIO (PIS/COFINS)]            |\")\n",
    "    print(\"| Funcionalidade 4 [Terminar programa]                                                               |\")\n",
    "    print(\"|                                                                                                    |\")\n",
    "    print(\"|____________________________________________________________________________________________________|\")\n",
    "\n",
    "# TESTE\n",
    "# menu()"
   ]
  },
  {
   "cell_type": "markdown",
   "metadata": {},
   "source": [
    "# Códigos das funcionalidades "
   ]
  },
  {
   "cell_type": "markdown",
   "metadata": {},
   "source": [
    "### Funcionalidade 1. [Consultar medicamentos pelo nome]"
   ]
  },
  {
   "cell_type": "code",
   "execution_count": 124,
   "metadata": {},
   "outputs": [],
   "source": [
    "'''AQUI SERÁ O CÓDIGO PARA CONSULTAR MEDICAMENTOS PELO NOME'''\n",
    "\n",
    "# Exemplos de entrada\n",
    "# MONTELUCASTE \n",
    "# HIDROCLOROTIAZIDA;MALEATO DE ENALAPRIL \n",
    "# ALFAINTERFERONA 2A\n",
    "# 21-ACETATO DE DEXAMETASONA;CLOTRIMAZOL\n",
    "\n",
    "def func1():\n",
    "    nomeMedicamento = str(input(\"Digite o nome do medicamento:\")) # Variável criada para armazenar o nome do medicamento indicado pelo usuário\n",
    "    nomeMedicamentoFormt = nomeMedicamento.upper() # Método upper() tranformará nome em maiúsculo, caso o usuário digite em minúsculo\n",
    "    print(\"Nome digitado:\", nomeMedicamentoFormt)\n",
    "\n",
    "    comercializados2020 = csv[csv[\"COMERCIALIZAÇÃO 2020\"] == \"Sim\"] # Variável criada para armazenar dados de produtos que foram comercializados em 2020 \n",
    "\n",
    "    tabMedicamento = comercializados2020.loc[comercializados2020[\"SUBSTÂNCIA\"] == nomeMedicamentoFormt] # Variável criada para armazenar os dados do nome do medicamento e suas informações, \n",
    "                                                                                                        # indicado pelo usuário\n",
    "    novoDF = tabMedicamento.loc[:,[\"SUBSTÂNCIA\", \"PRODUTO\", \"APRESENTAÇÃO\", \"PF Sem Impostos\"]] # Variável criada para filtrar apenas as colunas desejadas, como descrito no enunciado\n",
    "    listaTab = novoDF.values.tolist() # Aqui será feito o envio dos valores do data frame \"novoDF\" para uma lista\n",
    "\n",
    "    cont = 0\n",
    "    for lis in listaTab: # For criado para printar as listas, de forma mais organizada\n",
    "        cont += 1\n",
    "        print(f\"Lista {cont}:\", lis)"
   ]
  },
  {
   "cell_type": "markdown",
   "metadata": {},
   "source": [
    "### Funcionalidade 2. [Buscar pelo código de barras]"
   ]
  },
  {
   "cell_type": "code",
   "execution_count": 125,
   "metadata": {},
   "outputs": [],
   "source": [
    "'''AQUI SERÁ O CÓDIGO PARA BUSCAR PELO CÓDIGO DE BARRAS'''\n",
    "\n",
    "# Exemplos de entradas\n",
    "# 78905108\n",
    "# 100\n",
    "# 789667642\n",
    "\n",
    "def func2():\n",
    "    try:\n",
    "        numCod = int(input(\"Insira o número correspondente ao código de barras de um produto:\"))\n",
    "\n",
    "        # Letra A\n",
    "        registros = csv.loc[csv['EAN 1'] == str(numCod)] # Variável criada para armazenar o código do medicamento indicado pelo usuário\n",
    "        # display(registros.head())\n",
    "\n",
    "        # Letra B\n",
    "        pmc = registros[\"PMC 0%\"] # Filtrar a tabela \"PMC 0%\" para análise e manipulação dos dados\n",
    "        pmcAtualizado = pmc.dropna() # Retirar os valores nulos para a facilidade de manipulação seguinte\n",
    "        listaPMC = pmcAtualizado.tolist() # Transformando tabela em uma lista para facilitar a manipulação de dados\n",
    "\n",
    "        listaFloat = []\n",
    "        for i in listaPMC: # For criado para substituir a \",\" por \".\" para fazer a manipulação de dados seguinte\n",
    "            newI = i.replace(\",\", \".\")\n",
    "            listaFloat.append(float(newI))\n",
    "\n",
    "        def calcDiferenca(val1, val2): # Método criado para calcular a diferença entre o PMC(mais alto) e PMC(mais baixo)\n",
    "            diferenca = val1 - val2\n",
    "            return diferenca\n",
    "\n",
    "        maisAlto = listaFloat[-1] # Armazenando o PMC(mais alto) em uma variável\n",
    "        maisBaixo = listaFloat[0] # Armazenando o PMC(mais baixo) em uma variável\n",
    "\n",
    "        print(\"PMC(mais alto):\", maisAlto)\n",
    "        print(\"PMC(mais baixo):\", maisBaixo)\n",
    "        print(\"Diferença entre os PMC(mais alto) e PMC(mais baixo):\", calcDiferenca(maisAlto, maisBaixo))\n",
    "\n",
    "    except ValueError:\n",
    "        print(\"Dado de entrada inválido, por favor execute novamente a funcionalidade e insira o dado correto\")\n",
    "    except IndexError:\n",
    "        print(\"Dado de entrada inválido, por favor execute novamente a funcionalidade e insira o dado correto\")"
   ]
  },
  {
   "cell_type": "markdown",
   "metadata": {},
   "source": [
    "### Funcionalidade 3. [Comparativo da LISTA DE CONCESSÃO DE CRÉDITO TRIBUTÁRIO (PIS/COFINS)]"
   ]
  },
  {
   "cell_type": "code",
   "execution_count": 126,
   "metadata": {},
   "outputs": [],
   "source": [
    "'''AQUI SERÁ CÓDIGO PARA O COMPARATIVO DA LISTA DE CONCESSÃO DE CRÉDITO TRIBUTÁRIO (PIS/COFINS)'''\n",
    "\n",
    "def func3():\n",
    "    prod2020 = csv[csv[\"COMERCIALIZAÇÃO 2020\"] == \"Sim\"] # Filtrar itens somente comercializados em 2020\n",
    "\n",
    "    # Aqui será feita a filtragem da coluna [\"LISTA DE CONCESSÃO DE CRÉDITO TRIBUTÁRIO (PIS/COFINS)\"]\n",
    "    listConcessao = prod2020[\"LISTA DE CONCESSÃO DE CRÉDITO TRIBUTÁRIO (PIS/COFINS)\"] \n",
    "\n",
    "    valorTotal = listConcessao.count() # Teste para ver a quantidade total\n",
    "    # TESTE\n",
    "    # display(valorTotal) \n",
    "    # 13383 \n",
    "\n",
    "    qntPosNegNeu = listConcessao.value_counts() # Teste para ver a quantidade \"Positiva\", \"Negativa\" e \"Neutra\"\n",
    "    # TESTE\n",
    "    # display(qntPosNegNeu) \n",
    "    '''Positiva    8861\n",
    "    Negativa    4474\n",
    "    Neutra        48'''\n",
    "\n",
    "    lista = qntPosNegNeu.tolist() # Tranformando em lista para manipular os dados sendo a ordem [Positiva, Negativa, Neutra]\n",
    "\n",
    "    listaCalc = []\n",
    "    for i in lista: # For criada para fazer o percentual dos produtos classificados como “Negativa”, “Neutra” ou “Positiva”\n",
    "        num = (i*100)/valorTotal\n",
    "        num = round(num, 2)\n",
    "        listaCalc.append(num)\n",
    "    # TESTE\n",
    "    # print(listaCalc) \n",
    "    # Lista com os percentuais sendo [66.21==Positiva, 33.43==Negativa, 0.36==Neutra]\n",
    "    percPOS = f\"{listaCalc[0]}%\"\n",
    "    percNEG = f\"{listaCalc[1]}%\"\n",
    "    percNEU = f\"{listaCalc[2]}%\"\n",
    "\n",
    "    listaAsteriscos = []\n",
    "    for i in listaCalc: # For criada para fazer a quantidade de asteriscos proporcional ao respectivo percentual\n",
    "        numInteiro = int(i)\n",
    "        asteriscos = \"*\"*numInteiro\n",
    "        listaAsteriscos.append(asteriscos)\n",
    "    # TESTE\n",
    "    # print(listaAsteriscos) \n",
    "    # ['******************************************************************', '*********************************', '']\n",
    "    asteriscosPOS = listaAsteriscos[0]\n",
    "    asteriscosNEG = listaAsteriscos[1]\n",
    "    asteriscosNEU = listaAsteriscos[2]\n",
    "    \n",
    "    # Criação de uma tabela para mostrar os valores percentuais como solicitado\n",
    "    data = { \"CLASSIFICAÇÃO\": [\"NEGATIVA\", \"NEUTRA\", \"POSITIVA\", \"TOTAL\"], \n",
    "            \"PERCENTUAL\": [percNEG, percNEU, percPOS, \"100,00%\"],\n",
    "            \"GRAFICO\": [asteriscosNEG, asteriscosNEU, asteriscosPOS, \"\"] }\n",
    "    df = pd.DataFrame(data)\n",
    "    print(df)"
   ]
  },
  {
   "cell_type": "markdown",
   "metadata": {},
   "source": [
    "# Programa"
   ]
  },
  {
   "cell_type": "code",
   "execution_count": 127,
   "metadata": {},
   "outputs": [
    {
     "name": "stdout",
     "output_type": "stream",
     "text": [
      "______________________________________________________________________________________________________\n",
      "|                                                MENU                                                |\n",
      "|                                                                                                    |\n",
      "|                   DIGITE OS NÚMERO DAS FUNCIONALIDADES ABAIXO PARA ELAS EXECUTAREM                 |\n",
      "|                                                                                                    |\n",
      "| Funcionalidade 1 [Consultar medicamentos pelo nome]                                                |\n",
      "| Funcionalidade 2 [Buscar pelo código de barras]                                                    |\n",
      "| Funcionalidade 3 [Comparativo da LISTA DE CONCESSÃO DE CRÉDITO TRIBUTÁRIO (PIS/COFINS)]            |\n",
      "| Funcionalidade 4 [Terminar programa]                                                               |\n",
      "|                                                                                                    |\n",
      "|____________________________________________________________________________________________________|\n",
      "Funcionalidade 4 [Terminar programa]\n",
      "O programa se encerrou\n"
     ]
    }
   ],
   "source": [
    "'''AQUI SERÁ O CÓDIGO QUE IRÁ EXECUTAR TODO O PROGRAMA, JUNTANDO TODOS OS CÓDIGOS EM UM SÓ'''\n",
    "\n",
    "# Chama a função menu\n",
    "menu()\n",
    "\n",
    "i = int\n",
    "while i: # Foi criado um while() para ficar rodando o programa\n",
    "    try: # Inserido um try e um except para analisarem se o usúario inseriu algum dado inválido\n",
    "        i = int(input(\"Digite o número de alguma funcionalidade:\"))\n",
    "        if(i == 1):\n",
    "            print(\"Funcionalidade 1 [Consultar medicamentos pelo nome]\")\n",
    "            func1() # Executará o código da funcionalidade \n",
    "        elif(i == 2):\n",
    "            print(\"Funcionalidade 2 [Buscar pelo código de barras]\")\n",
    "            func2() # Executará o código da funcionalidade\n",
    "        elif(i == 3):\n",
    "            print(\"Funcionalidade 3 [Comparativo da LISTA DE CONCESSÃO DE CRÉDITO TRIBUTÁRIO (PIS/COFINS)]\")\n",
    "            func3() # Executará o código da funcionalidade\n",
    "        # No enunciado não consta, mas para melhor uso do programa pelo usuário, foi criado esse elif para se ele quiser encerrar o programa\n",
    "        elif(i == 4): \n",
    "            print(\"Funcionalidade 4 [Terminar programa]\")\n",
    "            print(\"O programa se encerrou\")\n",
    "            break\n",
    "        else:\n",
    "            print(\"Erro de numeração, digite apenas os números das funcionalidade de |1-4|\")\n",
    "    except ValueError:\n",
    "        print(\"Digite apenas números de 1-4!!!\")"
   ]
  }
 ],
 "metadata": {
  "interpreter": {
   "hash": "2043299c89c8cd0b4d1a6f5cf4529bd58e6a4e0fe3181a25e0d328c821cdc5c5"
  },
  "kernelspec": {
   "display_name": "Python 3.8.8 ('base')",
   "language": "python",
   "name": "python3"
  },
  "language_info": {
   "codemirror_mode": {
    "name": "ipython",
    "version": 3
   },
   "file_extension": ".py",
   "mimetype": "text/x-python",
   "name": "python",
   "nbconvert_exporter": "python",
   "pygments_lexer": "ipython3",
   "version": "3.8.8"
  },
  "orig_nbformat": 4
 },
 "nbformat": 4,
 "nbformat_minor": 2
}
